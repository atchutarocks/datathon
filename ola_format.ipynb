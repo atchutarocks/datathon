{
 "cells": [
  {
   "cell_type": "code",
   "execution_count": 1,
   "metadata": {},
   "outputs": [
    {
     "name": "stdout",
     "output_type": "stream",
     "text": [
      "Fine-tuning dataset saved to atc.jsonl\n"
     ]
    }
   ],
   "source": [
    "import json\n",
    "\n",
    "# Paths to the input and output files\n",
    "data_file = 'attrebute_train.data'\n",
    "solution_file = 'attrebute_train.solution'\n",
    "output_file = 'atc.jsonl'\n",
    "\n",
    "# Load JSONL data\n",
    "def load_jsonl(file_path):\n",
    "    data = []\n",
    "    with open(file_path, 'r') as f:\n",
    "        for line in f:\n",
    "            data.append(json.loads(line.strip()))\n",
    "    return data\n",
    "\n",
    "# Create prompt-completion pairs for fine-tuning\n",
    "def create_fine_tuning_dataset(data, solution):\n",
    "    fine_tuning_pairs = []\n",
    "    \n",
    "    # Create a dictionary from solution file using 'indoml_id' as key\n",
    "    solution_dict = {item['indoml_id']: item for item in solution}\n",
    "    \n",
    "    for item in data:\n",
    "        indoml_id = item['indoml_id']\n",
    "        if indoml_id in solution_dict:\n",
    "            # Shorter, concise prompt\n",
    "            instruction=\"Given a product title and optional details (store and manufacturer), predict the brand and 5 hierarchical ecommerce product categories (L0 to L4),some times categories can be na as well. The values may or may not be present in the title.\"\n",
    "            input = (\n",
    "                f\"Title: {item['title']}\\n\"\n",
    "                f\"Store: {item['store']}\\n\"\n",
    "                f\"Manufacturer: {item.get('details_Manufacturer', '')}\"\n",
    "            )\n",
    "            \n",
    "            # Get the completion from the corresponding solution record\n",
    "            solution_item = solution_dict[indoml_id]\n",
    "            output = (\n",
    "                f\"Brand: {solution_item['details_Brand']}, L0_category: {solution_item['L0_category']}, \"\n",
    "                f\"L1_category: {solution_item['L1_category']}, L2_category: {solution_item['L2_category']}, \"\n",
    "                f\"L3_category: {solution_item['L3_category']}, L4_category: {solution_item['L4_category']}\"\n",
    "            )\n",
    "            \n",
    "            # Create the prompt-completion pair\n",
    "            fine_tuning_pairs.append({\"instruction\":instruction,\"input\": input, \"output\": output})\n",
    "    \n",
    "    return fine_tuning_pairs\n",
    "\n",
    "# Save fine-tuning dataset to JSONL format\n",
    "def save_jsonl(data, file_path):\n",
    "    with open(file_path, 'w') as f:\n",
    "        for item in data:\n",
    "            f.write(json.dumps(item) + '\\n')\n",
    "\n",
    "# Load the data and solution files\n",
    "attribute_train_data = load_jsonl(data_file)\n",
    "attribute_train_solution = load_jsonl(solution_file)\n",
    "\n",
    "# Create fine-tuning dataset\n",
    "fine_tuning_dataset = create_fine_tuning_dataset(attribute_train_data, attribute_train_solution)\n",
    "\n",
    "# Save to output file\n",
    "save_jsonl(fine_tuning_dataset, output_file)\n",
    "\n",
    "print(f\"Fine-tuning dataset saved to {output_file}\")\n"
   ]
  },
  {
   "cell_type": "code",
   "execution_count": 2,
   "metadata": {},
   "outputs": [
    {
     "name": "stdout",
     "output_type": "stream",
     "text": [
      "Sampled 20 records saved to atc2.jsonl\n"
     ]
    }
   ],
   "source": [
    "import json\n",
    "import random\n",
    "\n",
    "# File paths\n",
    "input_file = \"atc.jsonl\"  # Input JSONL file\n",
    "output_file = 'atc2.jsonl'  # Output sample JSONL file\n",
    "\n",
    "# Parameters\n",
    "sample_size = 20  # Number of samples to extract\n",
    "random_sampling = True  # Set to False to take the first 'n' samples\n",
    "\n",
    "# Load JSONL data\n",
    "def load_jsonl(file_path):\n",
    "    data = []\n",
    "    with open(file_path, 'r') as f:\n",
    "        for line in f:\n",
    "            data.append(json.loads(line.strip()))\n",
    "    return data\n",
    "\n",
    "# Save JSONL data\n",
    "def save_jsonl(data, file_path):\n",
    "    with open(file_path, 'w') as f:\n",
    "        for item in data:\n",
    "            f.write(json.dumps(item) + '\\n')\n",
    "\n",
    "# Sample data\n",
    "def sample_jsonl_data(data, sample_size, random_sampling):\n",
    "    if random_sampling:\n",
    "        return random.sample(data, min(sample_size, len(data)))\n",
    "    else:\n",
    "        return data[:sample_size]\n",
    "\n",
    "# Load the large JSONL file\n",
    "data = load_jsonl(input_file)\n",
    "\n",
    "# Take a sample of the data\n",
    "sampled_data = sample_jsonl_data(data, sample_size, random_sampling)\n",
    "\n",
    "# Save the sampled data to a new JSONL file\n",
    "save_jsonl(sampled_data, output_file)\n",
    "\n",
    "print(f\"Sampled {len(sampled_data)} records saved to {output_file}\")\n"
   ]
  },
  {
   "cell_type": "code",
   "execution_count": 3,
   "metadata": {},
   "outputs": [
    {
     "name": "stdout",
     "output_type": "stream",
     "text": [
      "Converted atc2.jsonl to atc2.json\n"
     ]
    }
   ],
   "source": [
    "import json\n",
    "\n",
    "# Path to the input JSONL file and the output JSON file\n",
    "input_jsonl_file = 'atc2.jsonl'\n",
    "output_json_file = 'atc2.json'\n",
    "\n",
    "# Initialize a list to hold all JSON objects\n",
    "json_list = []\n",
    "\n",
    "# Read the JSONL file line by line\n",
    "with open(input_jsonl_file, 'r') as f:\n",
    "    for line in f:\n",
    "        json_obj = json.loads(line.strip())\n",
    "        json_list.append(json_obj)\n",
    "\n",
    "# Write the list of JSON objects to a single JSON file\n",
    "with open(output_json_file, 'w') as f:\n",
    "    json.dump(json_list, f, indent=4)\n",
    "\n",
    "print(f\"Converted {input_jsonl_file} to {output_json_file}\")\n"
   ]
  },
  {
   "cell_type": "code",
   "execution_count": 6,
   "metadata": {},
   "outputs": [
    {
     "name": "stdout",
     "output_type": "stream",
     "text": [
      "Converted the first 200,000 records from ola_ins.jsonl to ola_final_train.json\n"
     ]
    }
   ],
   "source": [
    "import json\n",
    "\n",
    "# Path to the input JSONL file and the output JSON file\n",
    "input_jsonl_file = 'ola_ins.jsonl'\n",
    "output_json_file = 'ola_final_train.json'\n",
    "\n",
    "# Initialize a list to hold the first 200,000 JSON objects\n",
    "json_list = []\n",
    "\n",
    "# Read the JSONL file line by line, but only up to 200,000 lines\n",
    "with open(input_jsonl_file, 'r') as f:\n",
    "    for i, line in enumerate(f):\n",
    "        if i >= 200000:  # Stop after reading 200,000 lines\n",
    "            break\n",
    "        json_obj = json.loads(line.strip())\n",
    "        json_list.append(json_obj)\n",
    "\n",
    "# Write the list of JSON objects to a single JSON file\n",
    "with open(output_json_file, 'w') as f:\n",
    "    json.dump(json_list, f, indent=4)\n",
    "\n",
    "print(f\"Converted the first 200,000 records from {input_jsonl_file} to {output_json_file}\")\n"
   ]
  },
  {
   "cell_type": "code",
   "execution_count": null,
   "metadata": {},
   "outputs": [],
   "source": []
  }
 ],
 "metadata": {
  "kernelspec": {
   "display_name": "Python 3",
   "language": "python",
   "name": "python3"
  },
  "language_info": {
   "codemirror_mode": {
    "name": "ipython",
    "version": 3
   },
   "file_extension": ".py",
   "mimetype": "text/x-python",
   "name": "python",
   "nbconvert_exporter": "python",
   "pygments_lexer": "ipython3",
   "version": "3.10.12"
  },
  "orig_nbformat": 4
 },
 "nbformat": 4,
 "nbformat_minor": 2
}
